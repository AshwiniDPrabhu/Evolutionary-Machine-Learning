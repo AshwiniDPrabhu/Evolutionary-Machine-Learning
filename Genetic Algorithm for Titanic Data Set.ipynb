{
 "cells": [
  {
   "cell_type": "markdown",
   "metadata": {},
   "source": [
    "## Genetic Algorithm for Titanic Data Set\n",
    "\n",
    "Train a feedforward neural network (with sigmoidal node functions and a hidden layer with twice as many nodes as the input dimensionality) for a 2-class classification task using GA/ES/PSO;  compare with backpropagation.\n",
    "\n",
    "https://www.kaggle.com/c/titanic/data"
   ]
  },
  {
   "cell_type": "code",
   "execution_count": 63,
   "metadata": {},
   "outputs": [],
   "source": [
    "%matplotlib inline\n",
    "\n",
    "import pandas as pd \n",
    "import numpy as np\n",
    "import matplotlib.pyplot as plt\n",
    "from sklearn.model_selection import train_test_split\n",
    "from sklearn.metrics import confusion_matrix\n"
   ]
  },
  {
   "cell_type": "markdown",
   "metadata": {},
   "source": [
    "### Importing dataset"
   ]
  },
  {
   "cell_type": "code",
   "execution_count": 2,
   "metadata": {},
   "outputs": [],
   "source": [
    "train = pd.read_csv('./titanic_dataset/train.csv')"
   ]
  },
  {
   "cell_type": "code",
   "execution_count": 3,
   "metadata": {},
   "outputs": [
    {
     "data": {
      "text/html": [
       "<div>\n",
       "<style scoped>\n",
       "    .dataframe tbody tr th:only-of-type {\n",
       "        vertical-align: middle;\n",
       "    }\n",
       "\n",
       "    .dataframe tbody tr th {\n",
       "        vertical-align: top;\n",
       "    }\n",
       "\n",
       "    .dataframe thead th {\n",
       "        text-align: right;\n",
       "    }\n",
       "</style>\n",
       "<table border=\"1\" class=\"dataframe\">\n",
       "  <thead>\n",
       "    <tr style=\"text-align: right;\">\n",
       "      <th></th>\n",
       "      <th>PassengerId</th>\n",
       "      <th>Survived</th>\n",
       "      <th>Pclass</th>\n",
       "      <th>Age</th>\n",
       "      <th>SibSp</th>\n",
       "      <th>Parch</th>\n",
       "      <th>Fare</th>\n",
       "    </tr>\n",
       "  </thead>\n",
       "  <tbody>\n",
       "    <tr>\n",
       "      <th>count</th>\n",
       "      <td>891.000000</td>\n",
       "      <td>891.000000</td>\n",
       "      <td>891.000000</td>\n",
       "      <td>714.000000</td>\n",
       "      <td>891.000000</td>\n",
       "      <td>891.000000</td>\n",
       "      <td>891.000000</td>\n",
       "    </tr>\n",
       "    <tr>\n",
       "      <th>mean</th>\n",
       "      <td>446.000000</td>\n",
       "      <td>0.383838</td>\n",
       "      <td>2.308642</td>\n",
       "      <td>29.699118</td>\n",
       "      <td>0.523008</td>\n",
       "      <td>0.381594</td>\n",
       "      <td>32.204208</td>\n",
       "    </tr>\n",
       "    <tr>\n",
       "      <th>std</th>\n",
       "      <td>257.353842</td>\n",
       "      <td>0.486592</td>\n",
       "      <td>0.836071</td>\n",
       "      <td>14.526497</td>\n",
       "      <td>1.102743</td>\n",
       "      <td>0.806057</td>\n",
       "      <td>49.693429</td>\n",
       "    </tr>\n",
       "    <tr>\n",
       "      <th>min</th>\n",
       "      <td>1.000000</td>\n",
       "      <td>0.000000</td>\n",
       "      <td>1.000000</td>\n",
       "      <td>0.420000</td>\n",
       "      <td>0.000000</td>\n",
       "      <td>0.000000</td>\n",
       "      <td>0.000000</td>\n",
       "    </tr>\n",
       "    <tr>\n",
       "      <th>25%</th>\n",
       "      <td>223.500000</td>\n",
       "      <td>0.000000</td>\n",
       "      <td>2.000000</td>\n",
       "      <td>20.125000</td>\n",
       "      <td>0.000000</td>\n",
       "      <td>0.000000</td>\n",
       "      <td>7.910400</td>\n",
       "    </tr>\n",
       "    <tr>\n",
       "      <th>50%</th>\n",
       "      <td>446.000000</td>\n",
       "      <td>0.000000</td>\n",
       "      <td>3.000000</td>\n",
       "      <td>28.000000</td>\n",
       "      <td>0.000000</td>\n",
       "      <td>0.000000</td>\n",
       "      <td>14.454200</td>\n",
       "    </tr>\n",
       "    <tr>\n",
       "      <th>75%</th>\n",
       "      <td>668.500000</td>\n",
       "      <td>1.000000</td>\n",
       "      <td>3.000000</td>\n",
       "      <td>38.000000</td>\n",
       "      <td>1.000000</td>\n",
       "      <td>0.000000</td>\n",
       "      <td>31.000000</td>\n",
       "    </tr>\n",
       "    <tr>\n",
       "      <th>max</th>\n",
       "      <td>891.000000</td>\n",
       "      <td>1.000000</td>\n",
       "      <td>3.000000</td>\n",
       "      <td>80.000000</td>\n",
       "      <td>8.000000</td>\n",
       "      <td>6.000000</td>\n",
       "      <td>512.329200</td>\n",
       "    </tr>\n",
       "  </tbody>\n",
       "</table>\n",
       "</div>"
      ],
      "text/plain": [
       "       PassengerId    Survived      Pclass         Age       SibSp  \\\n",
       "count   891.000000  891.000000  891.000000  714.000000  891.000000   \n",
       "mean    446.000000    0.383838    2.308642   29.699118    0.523008   \n",
       "std     257.353842    0.486592    0.836071   14.526497    1.102743   \n",
       "min       1.000000    0.000000    1.000000    0.420000    0.000000   \n",
       "25%     223.500000    0.000000    2.000000   20.125000    0.000000   \n",
       "50%     446.000000    0.000000    3.000000   28.000000    0.000000   \n",
       "75%     668.500000    1.000000    3.000000   38.000000    1.000000   \n",
       "max     891.000000    1.000000    3.000000   80.000000    8.000000   \n",
       "\n",
       "            Parch        Fare  \n",
       "count  891.000000  891.000000  \n",
       "mean     0.381594   32.204208  \n",
       "std      0.806057   49.693429  \n",
       "min      0.000000    0.000000  \n",
       "25%      0.000000    7.910400  \n",
       "50%      0.000000   14.454200  \n",
       "75%      0.000000   31.000000  \n",
       "max      6.000000  512.329200  "
      ]
     },
     "execution_count": 3,
     "metadata": {},
     "output_type": "execute_result"
    }
   ],
   "source": [
    "train.describe()"
   ]
  },
  {
   "cell_type": "code",
   "execution_count": 4,
   "metadata": {},
   "outputs": [
    {
     "data": {
      "text/html": [
       "<div>\n",
       "<style scoped>\n",
       "    .dataframe tbody tr th:only-of-type {\n",
       "        vertical-align: middle;\n",
       "    }\n",
       "\n",
       "    .dataframe tbody tr th {\n",
       "        vertical-align: top;\n",
       "    }\n",
       "\n",
       "    .dataframe thead th {\n",
       "        text-align: right;\n",
       "    }\n",
       "</style>\n",
       "<table border=\"1\" class=\"dataframe\">\n",
       "  <thead>\n",
       "    <tr style=\"text-align: right;\">\n",
       "      <th></th>\n",
       "      <th>PassengerId</th>\n",
       "      <th>Survived</th>\n",
       "      <th>Pclass</th>\n",
       "      <th>Name</th>\n",
       "      <th>Sex</th>\n",
       "      <th>Age</th>\n",
       "      <th>SibSp</th>\n",
       "      <th>Parch</th>\n",
       "      <th>Ticket</th>\n",
       "      <th>Fare</th>\n",
       "      <th>Cabin</th>\n",
       "      <th>Embarked</th>\n",
       "    </tr>\n",
       "  </thead>\n",
       "  <tbody>\n",
       "    <tr>\n",
       "      <th>0</th>\n",
       "      <td>1</td>\n",
       "      <td>0</td>\n",
       "      <td>3</td>\n",
       "      <td>Braund, Mr. Owen Harris</td>\n",
       "      <td>male</td>\n",
       "      <td>22.0</td>\n",
       "      <td>1</td>\n",
       "      <td>0</td>\n",
       "      <td>A/5 21171</td>\n",
       "      <td>7.2500</td>\n",
       "      <td>NaN</td>\n",
       "      <td>S</td>\n",
       "    </tr>\n",
       "    <tr>\n",
       "      <th>1</th>\n",
       "      <td>2</td>\n",
       "      <td>1</td>\n",
       "      <td>1</td>\n",
       "      <td>Cumings, Mrs. John Bradley (Florence Briggs Th...</td>\n",
       "      <td>female</td>\n",
       "      <td>38.0</td>\n",
       "      <td>1</td>\n",
       "      <td>0</td>\n",
       "      <td>PC 17599</td>\n",
       "      <td>71.2833</td>\n",
       "      <td>C85</td>\n",
       "      <td>C</td>\n",
       "    </tr>\n",
       "    <tr>\n",
       "      <th>2</th>\n",
       "      <td>3</td>\n",
       "      <td>1</td>\n",
       "      <td>3</td>\n",
       "      <td>Heikkinen, Miss. Laina</td>\n",
       "      <td>female</td>\n",
       "      <td>26.0</td>\n",
       "      <td>0</td>\n",
       "      <td>0</td>\n",
       "      <td>STON/O2. 3101282</td>\n",
       "      <td>7.9250</td>\n",
       "      <td>NaN</td>\n",
       "      <td>S</td>\n",
       "    </tr>\n",
       "    <tr>\n",
       "      <th>3</th>\n",
       "      <td>4</td>\n",
       "      <td>1</td>\n",
       "      <td>1</td>\n",
       "      <td>Futrelle, Mrs. Jacques Heath (Lily May Peel)</td>\n",
       "      <td>female</td>\n",
       "      <td>35.0</td>\n",
       "      <td>1</td>\n",
       "      <td>0</td>\n",
       "      <td>113803</td>\n",
       "      <td>53.1000</td>\n",
       "      <td>C123</td>\n",
       "      <td>S</td>\n",
       "    </tr>\n",
       "    <tr>\n",
       "      <th>4</th>\n",
       "      <td>5</td>\n",
       "      <td>0</td>\n",
       "      <td>3</td>\n",
       "      <td>Allen, Mr. William Henry</td>\n",
       "      <td>male</td>\n",
       "      <td>35.0</td>\n",
       "      <td>0</td>\n",
       "      <td>0</td>\n",
       "      <td>373450</td>\n",
       "      <td>8.0500</td>\n",
       "      <td>NaN</td>\n",
       "      <td>S</td>\n",
       "    </tr>\n",
       "  </tbody>\n",
       "</table>\n",
       "</div>"
      ],
      "text/plain": [
       "   PassengerId  Survived  Pclass  \\\n",
       "0            1         0       3   \n",
       "1            2         1       1   \n",
       "2            3         1       3   \n",
       "3            4         1       1   \n",
       "4            5         0       3   \n",
       "\n",
       "                                                Name     Sex   Age  SibSp  \\\n",
       "0                            Braund, Mr. Owen Harris    male  22.0      1   \n",
       "1  Cumings, Mrs. John Bradley (Florence Briggs Th...  female  38.0      1   \n",
       "2                             Heikkinen, Miss. Laina  female  26.0      0   \n",
       "3       Futrelle, Mrs. Jacques Heath (Lily May Peel)  female  35.0      1   \n",
       "4                           Allen, Mr. William Henry    male  35.0      0   \n",
       "\n",
       "   Parch            Ticket     Fare Cabin Embarked  \n",
       "0      0         A/5 21171   7.2500   NaN        S  \n",
       "1      0          PC 17599  71.2833   C85        C  \n",
       "2      0  STON/O2. 3101282   7.9250   NaN        S  \n",
       "3      0            113803  53.1000  C123        S  \n",
       "4      0            373450   8.0500   NaN        S  "
      ]
     },
     "execution_count": 4,
     "metadata": {},
     "output_type": "execute_result"
    }
   ],
   "source": [
    "train.head()"
   ]
  },
  {
   "cell_type": "markdown",
   "metadata": {},
   "source": [
    "#### Dropping the columns that dont have co-relation with survival"
   ]
  },
  {
   "cell_type": "code",
   "execution_count": 5,
   "metadata": {},
   "outputs": [],
   "source": [
    "train.drop(['PassengerId', 'Name', 'Ticket', 'Cabin'],axis=1, inplace=True)"
   ]
  },
  {
   "cell_type": "code",
   "execution_count": 6,
   "metadata": {},
   "outputs": [
    {
     "data": {
      "text/html": [
       "<div>\n",
       "<style scoped>\n",
       "    .dataframe tbody tr th:only-of-type {\n",
       "        vertical-align: middle;\n",
       "    }\n",
       "\n",
       "    .dataframe tbody tr th {\n",
       "        vertical-align: top;\n",
       "    }\n",
       "\n",
       "    .dataframe thead th {\n",
       "        text-align: right;\n",
       "    }\n",
       "</style>\n",
       "<table border=\"1\" class=\"dataframe\">\n",
       "  <thead>\n",
       "    <tr style=\"text-align: right;\">\n",
       "      <th></th>\n",
       "      <th>Survived</th>\n",
       "      <th>Pclass</th>\n",
       "      <th>Sex</th>\n",
       "      <th>Age</th>\n",
       "      <th>SibSp</th>\n",
       "      <th>Parch</th>\n",
       "      <th>Fare</th>\n",
       "      <th>Embarked</th>\n",
       "    </tr>\n",
       "  </thead>\n",
       "  <tbody>\n",
       "    <tr>\n",
       "      <th>0</th>\n",
       "      <td>0</td>\n",
       "      <td>3</td>\n",
       "      <td>male</td>\n",
       "      <td>22.0</td>\n",
       "      <td>1</td>\n",
       "      <td>0</td>\n",
       "      <td>7.2500</td>\n",
       "      <td>S</td>\n",
       "    </tr>\n",
       "    <tr>\n",
       "      <th>1</th>\n",
       "      <td>1</td>\n",
       "      <td>1</td>\n",
       "      <td>female</td>\n",
       "      <td>38.0</td>\n",
       "      <td>1</td>\n",
       "      <td>0</td>\n",
       "      <td>71.2833</td>\n",
       "      <td>C</td>\n",
       "    </tr>\n",
       "    <tr>\n",
       "      <th>2</th>\n",
       "      <td>1</td>\n",
       "      <td>3</td>\n",
       "      <td>female</td>\n",
       "      <td>26.0</td>\n",
       "      <td>0</td>\n",
       "      <td>0</td>\n",
       "      <td>7.9250</td>\n",
       "      <td>S</td>\n",
       "    </tr>\n",
       "    <tr>\n",
       "      <th>3</th>\n",
       "      <td>1</td>\n",
       "      <td>1</td>\n",
       "      <td>female</td>\n",
       "      <td>35.0</td>\n",
       "      <td>1</td>\n",
       "      <td>0</td>\n",
       "      <td>53.1000</td>\n",
       "      <td>S</td>\n",
       "    </tr>\n",
       "    <tr>\n",
       "      <th>4</th>\n",
       "      <td>0</td>\n",
       "      <td>3</td>\n",
       "      <td>male</td>\n",
       "      <td>35.0</td>\n",
       "      <td>0</td>\n",
       "      <td>0</td>\n",
       "      <td>8.0500</td>\n",
       "      <td>S</td>\n",
       "    </tr>\n",
       "  </tbody>\n",
       "</table>\n",
       "</div>"
      ],
      "text/plain": [
       "   Survived  Pclass     Sex   Age  SibSp  Parch     Fare Embarked\n",
       "0         0       3    male  22.0      1      0   7.2500        S\n",
       "1         1       1  female  38.0      1      0  71.2833        C\n",
       "2         1       3  female  26.0      0      0   7.9250        S\n",
       "3         1       1  female  35.0      1      0  53.1000        S\n",
       "4         0       3    male  35.0      0      0   8.0500        S"
      ]
     },
     "execution_count": 6,
     "metadata": {},
     "output_type": "execute_result"
    }
   ],
   "source": [
    "train.head()"
   ]
  },
  {
   "cell_type": "code",
   "execution_count": 7,
   "metadata": {},
   "outputs": [
    {
     "data": {
      "text/plain": [
       "(891, 8)"
      ]
     },
     "execution_count": 7,
     "metadata": {},
     "output_type": "execute_result"
    }
   ],
   "source": [
    "train.shape"
   ]
  },
  {
   "cell_type": "markdown",
   "metadata": {},
   "source": [
    "### Dropping rows that do not have age values"
   ]
  },
  {
   "cell_type": "code",
   "execution_count": 8,
   "metadata": {},
   "outputs": [],
   "source": [
    "train.dropna(subset=['Age'],inplace=True)"
   ]
  },
  {
   "cell_type": "code",
   "execution_count": 9,
   "metadata": {},
   "outputs": [
    {
     "data": {
      "text/plain": [
       "(714, 8)"
      ]
     },
     "execution_count": 9,
     "metadata": {},
     "output_type": "execute_result"
    }
   ],
   "source": [
    "train.shape"
   ]
  },
  {
   "cell_type": "code",
   "execution_count": 10,
   "metadata": {},
   "outputs": [
    {
     "name": "stdout",
     "output_type": "stream",
     "text": [
      "Missing Value Embarked count:  2\n",
      "Missing Value Pclass count:  0\n",
      "Missing Value Sex count:  0\n",
      "Missing Value SibSp count:  0\n",
      "Missing Value Parch count:  0\n",
      "Missing Value Fare count:  0\n"
     ]
    }
   ],
   "source": [
    "print(\"Missing Value Embarked count: \",train.Embarked.isnull().sum())\n",
    "print(\"Missing Value Pclass count: \",train.Pclass.isnull().sum())\n",
    "print(\"Missing Value Sex count: \",train.Sex.isnull().sum())\n",
    "print(\"Missing Value SibSp count: \",train.SibSp.isnull().sum())\n",
    "print(\"Missing Value Parch count: \",train.Parch.isnull().sum())\n",
    "print(\"Missing Value Fare count: \",train.Fare.isnull().sum())"
   ]
  },
  {
   "cell_type": "code",
   "execution_count": 11,
   "metadata": {},
   "outputs": [],
   "source": [
    "train['Embarked'].fillna('S',inplace=True)"
   ]
  },
  {
   "cell_type": "markdown",
   "metadata": {},
   "source": [
    "### Converting non numeric Embarked values and Sex values to numeric type"
   ]
  },
  {
   "cell_type": "code",
   "execution_count": 12,
   "metadata": {},
   "outputs": [],
   "source": [
    "def convertEmbarkedValues(val):\n",
    "    if val == 'S':\n",
    "        return 1\n",
    "    elif val == 'C':\n",
    "        return 2\n",
    "    else:\n",
    "        return 3"
   ]
  },
  {
   "cell_type": "code",
   "execution_count": 13,
   "metadata": {},
   "outputs": [],
   "source": [
    "def convertSexValues(val):\n",
    "    if val == 'male':\n",
    "        return 0\n",
    "    elif val == 'female':\n",
    "        return 1\n",
    "    else:\n",
    "        return 2"
   ]
  },
  {
   "cell_type": "code",
   "execution_count": 14,
   "metadata": {},
   "outputs": [],
   "source": [
    "train['Embarked_Val'] = train.apply(lambda row: convertEmbarkedValues(row['Embarked']), axis=1)"
   ]
  },
  {
   "cell_type": "code",
   "execution_count": 15,
   "metadata": {},
   "outputs": [],
   "source": [
    "train['Sex_Val'] = train.apply(lambda row: convertSexValues(row['Sex']), axis=1)"
   ]
  },
  {
   "cell_type": "code",
   "execution_count": 16,
   "metadata": {},
   "outputs": [],
   "source": [
    "train.drop(['Embarked', 'Sex'],axis=1, inplace=True)"
   ]
  },
  {
   "cell_type": "code",
   "execution_count": 17,
   "metadata": {},
   "outputs": [
    {
     "data": {
      "text/html": [
       "<div>\n",
       "<style scoped>\n",
       "    .dataframe tbody tr th:only-of-type {\n",
       "        vertical-align: middle;\n",
       "    }\n",
       "\n",
       "    .dataframe tbody tr th {\n",
       "        vertical-align: top;\n",
       "    }\n",
       "\n",
       "    .dataframe thead th {\n",
       "        text-align: right;\n",
       "    }\n",
       "</style>\n",
       "<table border=\"1\" class=\"dataframe\">\n",
       "  <thead>\n",
       "    <tr style=\"text-align: right;\">\n",
       "      <th></th>\n",
       "      <th>Survived</th>\n",
       "      <th>Pclass</th>\n",
       "      <th>Age</th>\n",
       "      <th>SibSp</th>\n",
       "      <th>Parch</th>\n",
       "      <th>Fare</th>\n",
       "      <th>Embarked_Val</th>\n",
       "      <th>Sex_Val</th>\n",
       "    </tr>\n",
       "  </thead>\n",
       "  <tbody>\n",
       "    <tr>\n",
       "      <th>0</th>\n",
       "      <td>0</td>\n",
       "      <td>3</td>\n",
       "      <td>22.0</td>\n",
       "      <td>1</td>\n",
       "      <td>0</td>\n",
       "      <td>7.2500</td>\n",
       "      <td>1</td>\n",
       "      <td>0</td>\n",
       "    </tr>\n",
       "    <tr>\n",
       "      <th>1</th>\n",
       "      <td>1</td>\n",
       "      <td>1</td>\n",
       "      <td>38.0</td>\n",
       "      <td>1</td>\n",
       "      <td>0</td>\n",
       "      <td>71.2833</td>\n",
       "      <td>2</td>\n",
       "      <td>1</td>\n",
       "    </tr>\n",
       "    <tr>\n",
       "      <th>2</th>\n",
       "      <td>1</td>\n",
       "      <td>3</td>\n",
       "      <td>26.0</td>\n",
       "      <td>0</td>\n",
       "      <td>0</td>\n",
       "      <td>7.9250</td>\n",
       "      <td>1</td>\n",
       "      <td>1</td>\n",
       "    </tr>\n",
       "    <tr>\n",
       "      <th>3</th>\n",
       "      <td>1</td>\n",
       "      <td>1</td>\n",
       "      <td>35.0</td>\n",
       "      <td>1</td>\n",
       "      <td>0</td>\n",
       "      <td>53.1000</td>\n",
       "      <td>1</td>\n",
       "      <td>1</td>\n",
       "    </tr>\n",
       "    <tr>\n",
       "      <th>4</th>\n",
       "      <td>0</td>\n",
       "      <td>3</td>\n",
       "      <td>35.0</td>\n",
       "      <td>0</td>\n",
       "      <td>0</td>\n",
       "      <td>8.0500</td>\n",
       "      <td>1</td>\n",
       "      <td>0</td>\n",
       "    </tr>\n",
       "  </tbody>\n",
       "</table>\n",
       "</div>"
      ],
      "text/plain": [
       "   Survived  Pclass   Age  SibSp  Parch     Fare  Embarked_Val  Sex_Val\n",
       "0         0       3  22.0      1      0   7.2500             1        0\n",
       "1         1       1  38.0      1      0  71.2833             2        1\n",
       "2         1       3  26.0      0      0   7.9250             1        1\n",
       "3         1       1  35.0      1      0  53.1000             1        1\n",
       "4         0       3  35.0      0      0   8.0500             1        0"
      ]
     },
     "execution_count": 17,
     "metadata": {},
     "output_type": "execute_result"
    }
   ],
   "source": [
    "train.head()"
   ]
  },
  {
   "cell_type": "markdown",
   "metadata": {},
   "source": [
    "### Neural network using back-propagation"
   ]
  },
  {
   "cell_type": "code",
   "execution_count": 18,
   "metadata": {},
   "outputs": [
    {
     "name": "stderr",
     "output_type": "stream",
     "text": [
      "Using TensorFlow backend.\n"
     ]
    }
   ],
   "source": [
    "import time\n",
    "from keras.models import Sequential\n",
    "from keras.layers import Dense, Dropout"
   ]
  },
  {
   "cell_type": "code",
   "execution_count": 57,
   "metadata": {},
   "outputs": [],
   "source": [
    "x_train, x_test, y_train, y_test = train_test_split(train.drop('Survived',axis=1), train['Survived'], test_size=0.20, random_state=42)"
   ]
  },
  {
   "cell_type": "code",
   "execution_count": 20,
   "metadata": {},
   "outputs": [
    {
     "name": "stdout",
     "output_type": "stream",
     "text": [
      "_________________________________________________________________\n",
      "Layer (type)                 Output Shape              Param #   \n",
      "=================================================================\n",
      "layer_1 (Dense)              (None, 32)                256       \n",
      "_________________________________________________________________\n",
      "dropout_1 (Dropout)          (None, 32)                0         \n",
      "_________________________________________________________________\n",
      "layer_2 (Dense)              (None, 1)                 33        \n",
      "=================================================================\n",
      "Total params: 289\n",
      "Trainable params: 289\n",
      "Non-trainable params: 0\n",
      "_________________________________________________________________\n"
     ]
    }
   ],
   "source": [
    "model = Sequential()\n",
    "model.add(Dense(32, input_dim=7, activation='sigmoid', name='layer_1'))\n",
    "model.add(Dropout(0.1))\n",
    "model.add(Dense(1, activation='sigmoid', name='layer_2'))\n",
    "\n",
    "model.summary()"
   ]
  },
  {
   "cell_type": "code",
   "execution_count": 21,
   "metadata": {},
   "outputs": [
    {
     "name": "stdout",
     "output_type": "stream",
     "text": [
      "(7, 32)\n",
      "(32,)\n",
      "(32, 1)\n",
      "(1,)\n"
     ]
    }
   ],
   "source": [
    "testLayer1 = model.get_layer('layer_1').get_weights()\n",
    "print(testLayer1[0].shape)\n",
    "print(testLayer1[1].shape)\n",
    "testLayer2= model.get_layer('layer_2').get_weights()\n",
    "print(testLayer2[0].shape)\n",
    "print(testLayer2[1].shape)"
   ]
  },
  {
   "cell_type": "code",
   "execution_count": 22,
   "metadata": {},
   "outputs": [
    {
     "data": {
      "text/plain": [
       "array([0., 0., 0., 0., 0., 0., 0., 0., 0., 0., 0., 0., 0., 0., 0., 0., 0.,\n",
       "       0., 0., 0., 0., 0., 0., 0., 0., 0., 0., 0., 0., 0., 0., 0.],\n",
       "      dtype=float32)"
      ]
     },
     "execution_count": 22,
     "metadata": {},
     "output_type": "execute_result"
    }
   ],
   "source": [
    "testLayer1[1] "
   ]
  },
  {
   "cell_type": "code",
   "execution_count": 23,
   "metadata": {},
   "outputs": [],
   "source": [
    "model.compile(loss='binary_crossentropy', optimizer='rmsprop', metrics=['accuracy'])"
   ]
  },
  {
   "cell_type": "code",
   "execution_count": 24,
   "metadata": {},
   "outputs": [
    {
     "name": "stdout",
     "output_type": "stream",
     "text": [
      "Train on 513 samples, validate on 58 samples\n",
      "Epoch 1/50\n",
      "513/513 [==============================] - 2s 4ms/step - loss: 0.6386 - acc: 0.6511 - val_loss: 0.5957 - val_acc: 0.7069\n",
      "Epoch 2/50\n",
      "513/513 [==============================] - 0s 723us/step - loss: 0.6145 - acc: 0.6862 - val_loss: 0.5887 - val_acc: 0.7069\n",
      "Epoch 3/50\n",
      "513/513 [==============================] - 0s 569us/step - loss: 0.6097 - acc: 0.6998 - val_loss: 0.5896 - val_acc: 0.7069\n",
      "Epoch 4/50\n",
      "513/513 [==============================] - 0s 715us/step - loss: 0.6001 - acc: 0.7018 - val_loss: 0.5935 - val_acc: 0.7069\n",
      "Epoch 5/50\n",
      "513/513 [==============================] - 0s 546us/step - loss: 0.5883 - acc: 0.6940 - val_loss: 0.5782 - val_acc: 0.7241\n",
      "Epoch 6/50\n",
      "513/513 [==============================] - 0s 610us/step - loss: 0.5918 - acc: 0.7037 - val_loss: 0.5733 - val_acc: 0.7241\n",
      "Epoch 7/50\n",
      "513/513 [==============================] - 0s 601us/step - loss: 0.5877 - acc: 0.7018 - val_loss: 0.5755 - val_acc: 0.7241\n",
      "Epoch 8/50\n",
      "513/513 [==============================] - 0s 481us/step - loss: 0.5725 - acc: 0.7076 - val_loss: 0.5760 - val_acc: 0.7241\n",
      "Epoch 9/50\n",
      "513/513 [==============================] - 0s 557us/step - loss: 0.5756 - acc: 0.7173 - val_loss: 0.5715 - val_acc: 0.7414\n",
      "Epoch 10/50\n",
      "513/513 [==============================] - 0s 575us/step - loss: 0.5790 - acc: 0.7096 - val_loss: 0.5700 - val_acc: 0.7414\n",
      "Epoch 11/50\n",
      "513/513 [==============================] - 0s 590us/step - loss: 0.5711 - acc: 0.7057 - val_loss: 0.5566 - val_acc: 0.7414\n",
      "Epoch 12/50\n",
      "513/513 [==============================] - 0s 501us/step - loss: 0.5709 - acc: 0.7096 - val_loss: 0.5612 - val_acc: 0.7414\n",
      "Epoch 13/50\n",
      "513/513 [==============================] - 0s 533us/step - loss: 0.5662 - acc: 0.7212 - val_loss: 0.5664 - val_acc: 0.7414\n",
      "Epoch 14/50\n",
      "513/513 [==============================] - 0s 441us/step - loss: 0.5661 - acc: 0.7037 - val_loss: 0.5618 - val_acc: 0.7414\n",
      "Epoch 15/50\n",
      "513/513 [==============================] - 0s 440us/step - loss: 0.5520 - acc: 0.7115 - val_loss: 0.5503 - val_acc: 0.7414\n",
      "Epoch 16/50\n",
      "513/513 [==============================] - 0s 555us/step - loss: 0.5514 - acc: 0.7173 - val_loss: 0.5419 - val_acc: 0.7414\n",
      "Epoch 17/50\n",
      "513/513 [==============================] - 0s 557us/step - loss: 0.5555 - acc: 0.6998 - val_loss: 0.5412 - val_acc: 0.7414\n",
      "Epoch 18/50\n",
      "513/513 [==============================] - 0s 570us/step - loss: 0.5488 - acc: 0.7310 - val_loss: 0.5382 - val_acc: 0.7414\n",
      "Epoch 19/50\n",
      "513/513 [==============================] - 0s 411us/step - loss: 0.5535 - acc: 0.7173 - val_loss: 0.5393 - val_acc: 0.7414\n",
      "Epoch 20/50\n",
      "513/513 [==============================] - 0s 378us/step - loss: 0.5446 - acc: 0.7329 - val_loss: 0.5424 - val_acc: 0.7586\n",
      "Epoch 21/50\n",
      "513/513 [==============================] - 0s 413us/step - loss: 0.5260 - acc: 0.7368 - val_loss: 0.5412 - val_acc: 0.7759\n",
      "Epoch 22/50\n",
      "513/513 [==============================] - 0s 502us/step - loss: 0.5338 - acc: 0.7446 - val_loss: 0.5336 - val_acc: 0.7759\n",
      "Epoch 23/50\n",
      "513/513 [==============================] - 0s 410us/step - loss: 0.5378 - acc: 0.7271 - val_loss: 0.5378 - val_acc: 0.7759\n",
      "Epoch 24/50\n",
      "513/513 [==============================] - 0s 384us/step - loss: 0.5227 - acc: 0.7583 - val_loss: 0.5278 - val_acc: 0.7759\n",
      "Epoch 25/50\n",
      "513/513 [==============================] - 0s 385us/step - loss: 0.5256 - acc: 0.7466 - val_loss: 0.5392 - val_acc: 0.7759\n",
      "Epoch 26/50\n",
      "513/513 [==============================] - 0s 406us/step - loss: 0.5174 - acc: 0.7349 - val_loss: 0.5359 - val_acc: 0.7586\n",
      "Epoch 27/50\n",
      "513/513 [==============================] - 0s 396us/step - loss: 0.5043 - acc: 0.7680 - val_loss: 0.5319 - val_acc: 0.7586\n",
      "Epoch 28/50\n",
      "513/513 [==============================] - 0s 411us/step - loss: 0.5046 - acc: 0.7661 - val_loss: 0.5113 - val_acc: 0.7759\n",
      "Epoch 29/50\n",
      "513/513 [==============================] - 0s 388us/step - loss: 0.5047 - acc: 0.7466 - val_loss: 0.5487 - val_acc: 0.7586\n",
      "Epoch 30/50\n",
      "513/513 [==============================] - 0s 383us/step - loss: 0.5049 - acc: 0.7524 - val_loss: 0.5152 - val_acc: 0.7759\n",
      "Epoch 31/50\n",
      "513/513 [==============================] - 0s 408us/step - loss: 0.4979 - acc: 0.7739 - val_loss: 0.5006 - val_acc: 0.7759\n",
      "Epoch 32/50\n",
      "513/513 [==============================] - 0s 404us/step - loss: 0.4975 - acc: 0.7739 - val_loss: 0.4977 - val_acc: 0.7759\n",
      "Epoch 33/50\n",
      "513/513 [==============================] - 0s 385us/step - loss: 0.4985 - acc: 0.7719 - val_loss: 0.5248 - val_acc: 0.7414\n",
      "Epoch 34/50\n",
      "513/513 [==============================] - 0s 390us/step - loss: 0.4938 - acc: 0.7758 - val_loss: 0.4962 - val_acc: 0.7759\n",
      "Epoch 35/50\n",
      "513/513 [==============================] - 0s 425us/step - loss: 0.4848 - acc: 0.7719 - val_loss: 0.4985 - val_acc: 0.7931\n",
      "Epoch 36/50\n",
      "513/513 [==============================] - 0s 523us/step - loss: 0.4872 - acc: 0.7914 - val_loss: 0.5065 - val_acc: 0.7759\n",
      "Epoch 37/50\n",
      "513/513 [==============================] - 0s 430us/step - loss: 0.4795 - acc: 0.7875 - val_loss: 0.4960 - val_acc: 0.7931\n",
      "Epoch 38/50\n",
      "513/513 [==============================] - 0s 373us/step - loss: 0.4813 - acc: 0.7797 - val_loss: 0.5091 - val_acc: 0.7414\n",
      "Epoch 39/50\n",
      "513/513 [==============================] - 0s 376us/step - loss: 0.4653 - acc: 0.7856 - val_loss: 0.5045 - val_acc: 0.7759\n",
      "Epoch 40/50\n",
      "513/513 [==============================] - 0s 385us/step - loss: 0.4686 - acc: 0.7836 - val_loss: 0.4733 - val_acc: 0.8103\n",
      "Epoch 41/50\n",
      "513/513 [==============================] - 0s 375us/step - loss: 0.4691 - acc: 0.8031 - val_loss: 0.4809 - val_acc: 0.8276\n",
      "Epoch 42/50\n",
      "513/513 [==============================] - 0s 399us/step - loss: 0.4708 - acc: 0.7934 - val_loss: 0.5288 - val_acc: 0.7586\n",
      "Epoch 43/50\n",
      "513/513 [==============================] - 0s 377us/step - loss: 0.4556 - acc: 0.7934 - val_loss: 0.5102 - val_acc: 0.7414\n",
      "Epoch 44/50\n",
      "513/513 [==============================] - 0s 414us/step - loss: 0.4472 - acc: 0.8109 - val_loss: 0.4770 - val_acc: 0.8103\n",
      "Epoch 45/50\n",
      "513/513 [==============================] - 0s 412us/step - loss: 0.4513 - acc: 0.8012 - val_loss: 0.4678 - val_acc: 0.8103\n",
      "Epoch 46/50\n",
      "513/513 [==============================] - 0s 411us/step - loss: 0.4712 - acc: 0.7953 - val_loss: 0.5044 - val_acc: 0.7759\n",
      "Epoch 47/50\n",
      "513/513 [==============================] - 0s 393us/step - loss: 0.4529 - acc: 0.7992 - val_loss: 0.4622 - val_acc: 0.7931\n",
      "Epoch 48/50\n",
      "513/513 [==============================] - 0s 407us/step - loss: 0.4479 - acc: 0.8031 - val_loss: 0.4874 - val_acc: 0.7931\n",
      "Epoch 49/50\n",
      "513/513 [==============================] - 0s 400us/step - loss: 0.4534 - acc: 0.8051 - val_loss: 0.4910 - val_acc: 0.7931\n",
      "Epoch 50/50\n",
      "513/513 [==============================] - 0s 379us/step - loss: 0.4633 - acc: 0.8012 - val_loss: 0.4673 - val_acc: 0.8276\n",
      "Time taken to train the model:  13.753248929977417 secs\n"
     ]
    }
   ],
   "source": [
    "t0 = time.time()\n",
    "history = model.fit(x_train, y_train, epochs=50, batch_size=8, validation_split=0.1)\n",
    "t1 = time.time()\n",
    "\n",
    "print(\"Time taken to train the model: \", t1-t0, \"secs\")"
   ]
  },
  {
   "cell_type": "code",
   "execution_count": 25,
   "metadata": {},
   "outputs": [
    {
     "data": {
      "image/png": "[encoded data removed]",
      "text/plain": [
       "<Figure size 432x288 with 1 Axes>"
      ]
     },
     "metadata": {
      "needs_background": "light"
     },
     "output_type": "display_data"
    }
   ],
   "source": [
    "plt.plot(history.history['acc'])\n",
    "plt.plot(history.history['val_acc'])\n",
    "plt.title('Model accuracy')\n",
    "plt.ylabel('Accuracy')\n",
    "plt.xlabel('Epoch')\n",
    "plt.legend(['Train', 'Validation'], loc='upper left')\n",
    "plt.show()"
   ]
  },
  {
   "cell_type": "code",
   "execution_count": 26,
   "metadata": {},
   "outputs": [
    {
     "data": {
      "image/png": "[encoded data removed]",
      "text/plain": [
       "<Figure size 432x288 with 1 Axes>"
      ]
     },
     "metadata": {
      "needs_background": "light"
     },
     "output_type": "display_data"
    }
   ],
   "source": [
    "plt.plot(history.history['loss'])\n",
    "plt.plot(history.history['val_loss'])\n",
    "plt.title('Model Loss Plot')\n",
    "plt.ylabel('Loss')\n",
    "plt.xlabel('Epoch')\n",
    "plt.legend(['Train', 'Validation'], loc='upper left')\n",
    "plt.show()"
   ]
  },
  {
   "cell_type": "code",
   "execution_count": 27,
   "metadata": {},
   "outputs": [
    {
     "name": "stdout",
     "output_type": "stream",
     "text": [
      "143/143 [==============================] - 0s 70us/step\n"
     ]
    }
   ],
   "source": [
    "eval_val = model.evaluate(x_test, y_test)"
   ]
  },
  {
   "cell_type": "code",
   "execution_count": 28,
   "metadata": {},
   "outputs": [
    {
     "name": "stdout",
     "output_type": "stream",
     "text": [
      "The model has 74.825175 accuracy on the test data\n"
     ]
    }
   ],
   "source": [
    "print('The model has %f accuracy on the test data' % (eval_val[1] * 100))"
   ]
  },
  {
   "cell_type": "code",
   "execution_count": 29,
   "metadata": {},
   "outputs": [],
   "source": [
    "y_pred = model.predict_classes(x_test)"
   ]
  },
  {
   "cell_type": "code",
   "execution_count": 30,
   "metadata": {},
   "outputs": [
    {
     "data": {
      "image/png": "[encoded data removed]",
      "text/plain": [
       "<Figure size 432x288 with 2 Axes>"
      ]
     },
     "metadata": {
      "needs_background": "light"
     },
     "output_type": "display_data"
    }
   ],
   "source": [
    "confusion_matrix_val = confusion_matrix(y_test, y_pred)\n",
    "labels = ['Not Survived', 'Survived']\n",
    "\n",
    "# Create the plot figure \n",
    "fig = plt.figure()\n",
    "\n",
    "# Comfusion Matrix subplot\n",
    "subplt = fig.add_subplot(111)\n",
    "csubplt = subplt.matshow(confusion_matrix_val)\n",
    "\n",
    "plt.title('Confusion matrix of the neural network classifier')\n",
    "fig.colorbar(csubplt)\n",
    "\n",
    "subplt.set_xticklabels([''] + labels)\n",
    "subplt.set_yticklabels([''] + labels)\n",
    "\n",
    "plt.xlabel('Predicted')\n",
    "plt.ylabel('Actual')\n",
    "plt.show()"
   ]
  },
  {
   "cell_type": "markdown",
   "metadata": {},
   "source": [
    "From the above plot, we see that the number of correct values predicted is more than the incorrect values."
   ]
  },
  {
   "cell_type": "markdown",
   "metadata": {},
   "source": [
    "### Genetic Algorithm Implementation to get an optimal neural network model"
   ]
  },
  {
   "cell_type": "code",
   "execution_count": 31,
   "metadata": {},
   "outputs": [],
   "source": [
    "from random import randint, random\n",
    "import functools \n",
    "from operator import add\n",
    "import numpy as np\n",
    "\n",
    "np.random.seed(0)"
   ]
  },
  {
   "cell_type": "code",
   "execution_count": 32,
   "metadata": {},
   "outputs": [],
   "source": [
    "def createWeights(m,n):\n",
    "    return np.random.uniform(-1,1,(m,n))\n",
    "\n",
    "def createBiases(n):\n",
    "    return np.random.uniform(-1,1,n)\n",
    "\n",
    "def individual():\n",
    "    'Create a neural network model which is the member of the population.'\n",
    "    model = Sequential()\n",
    "    model.add(Dense(32, input_dim=7, activation='sigmoid', name='layer_1'))\n",
    "    model.add(Dropout(0.1))\n",
    "    model.add(Dense(1, activation='sigmoid', name='layer_2'))\n",
    "    #model.summary()\n",
    "    \n",
    "    model.compile(loss='binary_crossentropy', optimizer='rmsprop', metrics=['accuracy'])\n",
    "    \n",
    "    model.get_layer('layer_1').set_weights([createWeights(7,32), createBiases(32)])\n",
    "    model.get_layer('layer_2').set_weights([createWeights(32,1), createBiases(1)])\n",
    "    return model"
   ]
  },
  {
   "cell_type": "code",
   "execution_count": 33,
   "metadata": {},
   "outputs": [],
   "source": [
    "def getChildWeights(father, mother, layer):\n",
    "    'Create a mix of weights from both parents'\n",
    "    fatherWeights = father.get_layer(layer).get_weights()[0]\n",
    "    motherWeights = mother.get_layer(layer).get_weights()[0]\n",
    "    \n",
    "    childWeights = np.zeros(fatherWeights.shape)\n",
    "    # Randomizing only the row values\n",
    "    indexStatus = np.random.randint(2, size=(fatherWeights.shape[0],))\n",
    "    \n",
    "    for index in range(fatherWeights.shape[0]):\n",
    "        if indexStatus[index] == 0:\n",
    "            childWeights[index] = fatherWeights[index]\n",
    "        else:\n",
    "            childWeights[index] = motherWeights[index]\n",
    "    \n",
    "    return childWeights\n",
    "    \n",
    "def getChildBias(father, mother, layer):\n",
    "    'Create a mix of biases from both parents'\n",
    "    father_bias = father.get_layer(layer).get_weights()[1]\n",
    "    mother_bias = mother.get_layer(layer).get_weights()[1]\n",
    "    \n",
    "    child_bias = np.zeros(father_bias.shape)\n",
    "    # Randomizing only the row values\n",
    "    indexStatus = np.random.randint(2, size=(father_bias.shape[0],))\n",
    "    \n",
    "    for index in range(father_bias.shape[0]):\n",
    "        if indexStatus[index] == 0:\n",
    "            child_bias[index] = father_bias[index]\n",
    "        else:\n",
    "            child_bias[index] = mother_bias[index]\n",
    "\n",
    "    return child_bias"
   ]
  },
  {
   "cell_type": "code",
   "execution_count": 34,
   "metadata": {},
   "outputs": [],
   "source": [
    "def child(father, mother):\n",
    "    'Create a new neural network model child which is the member of the population.'\n",
    "    model = Sequential()\n",
    "    model.add(Dense(32, input_dim=7, activation='sigmoid', name='layer_1'))\n",
    "    model.add(Dropout(0.1))\n",
    "    model.add(Dense(1, activation='sigmoid', name='layer_2'))\n",
    "    #model.summary()\n",
    "    \n",
    "    model.compile(loss='binary_crossentropy', optimizer='rmsprop', metrics=['accuracy'])\n",
    "    \n",
    "    # Cross Breed the weights and biases\n",
    "    model.get_layer('layer_1').set_weights([getChildWeights(father, mother, 'layer_1'), getChildBias(father, mother, 'layer_1')])\n",
    "    model.get_layer('layer_2').set_weights([getChildWeights(father, mother, 'layer_2'), getChildBias(father, mother, 'layer_2')])\n",
    "    \n",
    "    return model"
   ]
  },
  {
   "cell_type": "code",
   "execution_count": 35,
   "metadata": {},
   "outputs": [],
   "source": [
    "def mutateWeights(individual, layer):\n",
    "    'Randomly mutate the weights of an individual'\n",
    "    individualWeights = individual.get_layer(layer).get_weights()[0]\n",
    "    randomWeights = createWeights(individualWeights.shape[0], individualWeights.shape[1])\n",
    "    \n",
    "    mutateWeights = np.zeros(individualWeights.shape)\n",
    "    indexStatus = np.random.randint(2, size=(individualWeights.shape[0],))\n",
    "    \n",
    "    for index in range(individualWeights.shape[0]):\n",
    "        if indexStatus[index] == 0:\n",
    "            mutateWeights[index] = individualWeights[index]\n",
    "        else:\n",
    "            mutateWeights[index] = randomWeights[index]\n",
    "    \n",
    "    return mutateWeights\n",
    "    \n",
    "def mutatedBias(individual, layer):\n",
    "    'Randomly mutate the biases of an individual'\n",
    "    individual_bias = individual.get_layer(layer).get_weights()[1]\n",
    "    random_bias = createBiases(individual_bias.shape[0])\n",
    "    \n",
    "    mutated_bias = np.zeros(individual_bias.shape)\n",
    "    indexStatus = np.random.randint(2, size=(individual_bias.shape[0],))\n",
    "    \n",
    "    for index in range(individual_bias.shape[0]):\n",
    "        if indexStatus[index] == 0:\n",
    "            mutated_bias[index] = individual_bias[index]\n",
    "        else:\n",
    "            mutated_bias[index] = random_bias[index]\n",
    "\n",
    "    return mutated_bias"
   ]
  },
  {
   "cell_type": "code",
   "execution_count": 36,
   "metadata": {},
   "outputs": [],
   "source": [
    "def population(count):\n",
    "    'count: the number of individuals in the population'\n",
    "    return [ individual() for ind in range(count) ]"
   ]
  },
  {
   "cell_type": "code",
   "execution_count": 37,
   "metadata": {},
   "outputs": [],
   "source": [
    "def fitness(individual, x, y):\n",
    "    'Determine the fitness of an individual. Higher is better.'\n",
    "    return individual.evaluate(x, y)[1]"
   ]
  },
  {
   "cell_type": "code",
   "execution_count": 38,
   "metadata": {},
   "outputs": [],
   "source": [
    "def grade(pop, x, y):\n",
    "    'Find average fitness for a population.'\n",
    "    summed = functools.reduce(add, (fitness(ind, x, y) for ind in pop))\n",
    "    return summed / (len(pop) * 1.0)"
   ]
  },
  {
   "cell_type": "markdown",
   "metadata": {},
   "source": [
    "The evolve function uses the above functions to generates a new population with the retain, random selection and mutation criterias."
   ]
  },
  {
   "cell_type": "code",
   "execution_count": 69,
   "metadata": {},
   "outputs": [],
   "source": [
    "def evolve(pop, dataset_x, dataset_y, retain=0.2, random_select=0.05, mutate=0.01):\n",
    "    graded = [ (fitness(ind, dataset_x, dataset_y), ind) for ind in pop]\n",
    "    graded = [ x[1] for x in sorted(graded, key=lambda tup: tup[0])]\n",
    "\n",
    "    # number of individuals to retain\n",
    "    retain_length = int(len(graded)*retain)\n",
    "    parents = graded[-retain_length:]\n",
    "    \n",
    "    # randomly pick individuals to retain\n",
    "    for individual in graded[:len(graded)-retain_length:]:\n",
    "        if random_select > random():\n",
    "            parents.append(individual)\n",
    "    \n",
    "    # mutate some individuals\n",
    "    for individual in parents:\n",
    "        if mutate > random():\n",
    "            individual.get_layer('layer_1').set_weights([mutateWeights(individual, 'layer_1'), mutatedBias(individual, 'layer_1')])\n",
    "            individual.get_layer('layer_2').set_weights([mutateWeights(individual, 'layer_2'), mutatedBias(individual, 'layer_2')])\n",
    "    \n",
    "    # Cross bread parents to create children with the count of the initial population size\n",
    "    parents_length = len(parents)\n",
    "    desired_length = len(pop) - parents_length\n",
    "    children = []\n",
    "    while len(children) < desired_length:\n",
    "        father = randint(0, parents_length-1)\n",
    "        mother = randint(0, parents_length-1)\n",
    "        if father != mother:\n",
    "            father = parents[father]\n",
    "            mother = parents[mother]\n",
    "            children.append(child(father, mother))        \n",
    "    parents.extend(children)\n",
    "\n",
    "    return parents"
   ]
  },
  {
   "cell_type": "markdown",
   "metadata": {},
   "source": [
    "Create the initial population and calculate the average fitness of the population"
   ]
  },
  {
   "cell_type": "code",
   "execution_count": 70,
   "metadata": {},
   "outputs": [
    {
     "name": "stdout",
     "output_type": "stream",
     "text": [
      "571/571 [==============================] - 2s 3ms/step\n",
      "571/571 [==============================] - 2s 3ms/step\n",
      "571/571 [==============================] - 2s 3ms/step\n",
      "571/571 [==============================] - 2s 3ms/step\n",
      "571/571 [==============================] - 2s 3ms/step\n",
      "571/571 [==============================] - 2s 3ms/step\n",
      "571/571 [==============================] - 2s 3ms/step\n",
      "571/571 [==============================] - 2s 3ms/step\n",
      "571/571 [==============================] - 2s 3ms/step\n",
      "571/571 [==============================] - 2s 3ms/step\n"
     ]
    }
   ],
   "source": [
    "p_count = 10\n",
    "pop = population(p_count)\n",
    "average_fitness_history = [grade(pop, x_train, y_train),]"
   ]
  },
  {
   "cell_type": "code",
   "execution_count": 71,
   "metadata": {},
   "outputs": [
    {
     "name": "stdout",
     "output_type": "stream",
     "text": [
      "Started running the 0 generation\n",
      "571/571 [==============================] - 0s 160us/step\n",
      "571/571 [==============================] - 0s 155us/step\n",
      "571/571 [==============================] - 0s 153us/step\n",
      "571/571 [==============================] - 0s 181us/step\n",
      "571/571 [==============================] - 0s 144us/step\n",
      "571/571 [==============================] - 0s 142us/step\n",
      "571/571 [==============================] - 0s 129us/step\n",
      "571/571 [==============================] - 0s 140us/step\n",
      "571/571 [==============================] - 0s 131us/step\n",
      "571/571 [==============================] - 0s 105us/step\n",
      "571/571 [==============================] - 0s 133us/step\n",
      "571/571 [==============================] - 0s 147us/step\n",
      "571/571 [==============================] - 2s 3ms/step\n",
      "571/571 [==============================] - 2s 3ms/step\n",
      "571/571 [==============================] - 2s 3ms/step\n",
      "571/571 [==============================] - 2s 3ms/step\n",
      "571/571 [==============================] - 2s 3ms/step\n",
      "571/571 [==============================] - 2s 3ms/step\n",
      "571/571 [==============================] - 2s 3ms/step\n",
      "571/571 [==============================] - 2s 3ms/step\n",
      "Completed running the 0 generation with mean accuracy of: 0.619089\n",
      "Started running the 1 generation\n",
      "571/571 [==============================] - 0s 119us/step\n",
      "571/571 [==============================] - 0s 129us/step\n",
      "571/571 [==============================] - 0s 127us/step\n",
      "571/571 [==============================] - 0s 117us/step\n",
      "571/571 [==============================] - 0s 163us/step\n",
      "571/571 [==============================] - 0s 146us/step\n",
      "571/571 [==============================] - 0s 130us/step\n",
      "571/571 [==============================] - 0s 139us/step\n",
      "571/571 [==============================] - 0s 127us/step\n",
      "571/571 [==============================] - 0s 166us/step\n",
      "571/571 [==============================] - 0s 127us/step\n",
      "571/571 [==============================] - 0s 127us/step\n",
      "571/571 [==============================] - 2s 3ms/step\n",
      "571/571 [==============================] - 2s 3ms/step\n",
      "571/571 [==============================] - 2s 3ms/step\n",
      "571/571 [==============================] - 2s 3ms/step\n",
      "571/571 [==============================] - 2s 3ms/step\n",
      "571/571 [==============================] - 2s 3ms/step\n",
      "571/571 [==============================] - 2s 3ms/step\n",
      "571/571 [==============================] - 2s 3ms/step\n",
      "Completed running the 1 generation with mean accuracy of: 0.650263\n",
      "Started running the 2 generation\n",
      "571/571 [==============================] - 0s 147us/step\n",
      "571/571 [==============================] - 0s 178us/step\n",
      "571/571 [==============================] - 0s 135us/step\n",
      "571/571 [==============================] - 0s 150us/step\n",
      "571/571 [==============================] - 0s 130us/step\n",
      "571/571 [==============================] - 0s 146us/step\n",
      "571/571 [==============================] - 0s 141us/step\n",
      "571/571 [==============================] - 0s 122us/step\n",
      "571/571 [==============================] - 0s 124us/step\n",
      "571/571 [==============================] - 0s 125us/step\n",
      "571/571 [==============================] - 0s 118us/step\n",
      "571/571 [==============================] - 0s 133us/step\n",
      "571/571 [==============================] - 2s 3ms/step\n",
      "571/571 [==============================] - 2s 3ms/step\n",
      "571/571 [==============================] - 2s 3ms/step\n",
      "571/571 [==============================] - 2s 3ms/step\n",
      "571/571 [==============================] - 2s 3ms/step\n",
      "571/571 [==============================] - 2s 3ms/step\n",
      "571/571 [==============================] - 2s 3ms/step\n",
      "571/571 [==============================] - 2s 3ms/step\n",
      "Completed running the 2 generation with mean accuracy of: 0.675306\n",
      "Started running the 3 generation\n",
      "571/571 [==============================] - 0s 130us/step\n",
      "571/571 [==============================] - 0s 129us/step\n",
      "571/571 [==============================] - 0s 138us/step\n",
      "571/571 [==============================] - 0s 129us/step\n",
      "571/571 [==============================] - 0s 135us/step\n",
      "571/571 [==============================] - 0s 132us/step\n",
      "571/571 [==============================] - 0s 125us/step\n",
      "571/571 [==============================] - 0s 134us/step\n",
      "571/571 [==============================] - 0s 125us/step\n",
      "571/571 [==============================] - 0s 132us/step\n",
      "571/571 [==============================] - 0s 127us/step\n",
      "571/571 [==============================] - 0s 132us/step\n",
      "571/571 [==============================] - 0s 129us/step\n",
      "571/571 [==============================] - 0s 148us/step\n",
      "571/571 [==============================] - 0s 165us/step\n",
      "571/571 [==============================] - 2s 3ms/step\n",
      "571/571 [==============================] - 2s 3ms/step\n",
      "571/571 [==============================] - 2s 3ms/step\n",
      "571/571 [==============================] - 2s 3ms/step\n",
      "571/571 [==============================] - 2s 3ms/step\n",
      "Completed running the 3 generation with mean accuracy of: 0.681261\n",
      "Started running the 4 generation\n",
      "571/571 [==============================] - 0s 129us/step\n",
      "571/571 [==============================] - 0s 131us/step\n",
      "571/571 [==============================] - 0s 131us/step\n",
      "571/571 [==============================] - 0s 133us/step\n",
      "571/571 [==============================] - 0s 131us/step\n",
      "571/571 [==============================] - 0s 131us/step\n",
      "571/571 [==============================] - 0s 135us/step\n",
      "571/571 [==============================] - 0s 129us/step\n",
      "571/571 [==============================] - 0s 127us/step\n",
      "571/571 [==============================] - 0s 156us/step\n",
      "571/571 [==============================] - 0s 130us/step\n",
      "571/571 [==============================] - 0s 147us/step\n",
      "571/571 [==============================] - 2s 4ms/step\n",
      "571/571 [==============================] - 2s 3ms/step\n",
      "571/571 [==============================] - 2s 3ms/step\n",
      "571/571 [==============================] - 2s 3ms/step\n",
      "571/571 [==============================] - 2s 3ms/step\n",
      "571/571 [==============================] - 2s 3ms/step\n",
      "571/571 [==============================] - 2s 3ms/step\n",
      "571/571 [==============================] - 2s 4ms/step\n",
      "Completed running the 4 generation with mean accuracy of: 0.694571\n",
      "Started running the 5 generation\n",
      "571/571 [==============================] - 0s 118us/step\n",
      "571/571 [==============================] - 0s 194us/step\n",
      "571/571 [==============================] - 0s 179us/step\n",
      "571/571 [==============================] - 0s 139us/step\n",
      "571/571 [==============================] - 0s 133us/step\n",
      "571/571 [==============================] - 0s 137us/step\n",
      "571/571 [==============================] - 0s 124us/step\n",
      "571/571 [==============================] - 0s 115us/step\n",
      "571/571 [==============================] - 0s 119us/step\n",
      "571/571 [==============================] - 0s 119us/step\n",
      "571/571 [==============================] - 0s 123us/step\n",
      "571/571 [==============================] - 0s 125us/step\n",
      "571/571 [==============================] - 2s 3ms/step\n",
      "571/571 [==============================] - 2s 3ms/step\n",
      "571/571 [==============================] - 2s 3ms/step\n",
      "571/571 [==============================] - 2s 3ms/step\n",
      "571/571 [==============================] - 2s 3ms/step\n",
      "571/571 [==============================] - 2s 3ms/step\n",
      "571/571 [==============================] - 2s 3ms/step\n",
      "571/571 [==============================] - 2s 3ms/step\n",
      "Completed running the 5 generation with mean accuracy of: 0.702452\n",
      "Started running the 6 generation\n",
      "571/571 [==============================] - 0s 125us/step\n",
      "571/571 [==============================] - 0s 127us/step\n",
      "571/571 [==============================] - 0s 129us/step\n",
      "571/571 [==============================] - 0s 132us/step\n",
      "571/571 [==============================] - 0s 127us/step\n",
      "571/571 [==============================] - 0s 128us/step\n",
      "571/571 [==============================] - 0s 126us/step\n",
      "571/571 [==============================] - 0s 121us/step\n",
      "571/571 [==============================] - 0s 122us/step\n",
      "571/571 [==============================] - 0s 125us/step\n",
      "571/571 [==============================] - 0s 161us/step\n",
      "571/571 [==============================] - 0s 141us/step\n",
      "571/571 [==============================] - 2s 4ms/step\n",
      "571/571 [==============================] - 2s 4ms/step\n",
      "571/571 [==============================] - 2s 4ms/step\n",
      "571/571 [==============================] - 2s 4ms/step\n",
      "571/571 [==============================] - 2s 4ms/step\n",
      "571/571 [==============================] - 2s 4ms/step\n",
      "571/571 [==============================] - 2s 4ms/step\n",
      "571/571 [==============================] - 2s 3ms/step\n",
      "Completed running the 6 generation with mean accuracy of: 0.707531\n",
      "Started running the 7 generation\n",
      "571/571 [==============================] - 0s 110us/step\n",
      "571/571 [==============================] - 0s 117us/step\n",
      "571/571 [==============================] - 0s 115us/step\n",
      "571/571 [==============================] - 0s 113us/step\n",
      "571/571 [==============================] - 0s 110us/step\n",
      "571/571 [==============================] - 0s 108us/step\n",
      "571/571 [==============================] - 0s 106us/step\n",
      "571/571 [==============================] - 0s 110us/step\n",
      "571/571 [==============================] - 0s 110us/step\n",
      "571/571 [==============================] - 0s 144us/step\n",
      "571/571 [==============================] - 0s 139us/step\n",
      "571/571 [==============================] - 0s 134us/step\n",
      "571/571 [==============================] - 2s 4ms/step\n",
      "571/571 [==============================] - 3s 5ms/step\n",
      "571/571 [==============================] - 3s 5ms/step\n",
      "571/571 [==============================] - 2s 4ms/step\n",
      "571/571 [==============================] - 2s 4ms/step\n",
      "571/571 [==============================] - 2s 4ms/step\n",
      "571/571 [==============================] - 2s 4ms/step\n",
      "571/571 [==============================] - 2s 3ms/step\n",
      "Completed running the 7 generation with mean accuracy of: 0.707531\n",
      "Started running the 8 generation\n",
      "571/571 [==============================] - 0s 123us/step\n",
      "571/571 [==============================] - 0s 139us/step\n",
      "571/571 [==============================] - 0s 143us/step\n",
      "571/571 [==============================] - 0s 130us/step\n",
      "571/571 [==============================] - 0s 146us/step\n",
      "571/571 [==============================] - 0s 126us/step\n",
      "571/571 [==============================] - 0s 139us/step\n",
      "571/571 [==============================] - 0s 133us/step\n",
      "571/571 [==============================] - 0s 127us/step\n",
      "571/571 [==============================] - 0s 112us/step\n",
      "571/571 [==============================] - 0s 109us/step\n",
      "571/571 [==============================] - 0s 113us/step\n",
      "571/571 [==============================] - 0s 109us/step\n",
      "571/571 [==============================] - 2s 3ms/step\n",
      "571/571 [==============================] - 2s 4ms/step\n",
      "571/571 [==============================] - 2s 4ms/step\n",
      "571/571 [==============================] - 2s 3ms/step\n",
      "571/571 [==============================] - 2s 3ms/step\n",
      "571/571 [==============================] - 2s 3ms/step\n",
      "571/571 [==============================] - 2s 3ms/step\n",
      "Completed running the 8 generation with mean accuracy of: 0.707531\n",
      "Started running the 9 generation\n",
      "571/571 [==============================] - 0s 117us/step\n",
      "571/571 [==============================] - 0s 112us/step\n",
      "571/571 [==============================] - 0s 111us/step\n",
      "571/571 [==============================] - 0s 109us/step\n",
      "571/571 [==============================] - 0s 110us/step\n",
      "571/571 [==============================] - 0s 109us/step\n",
      "571/571 [==============================] - 0s 108us/step\n",
      "571/571 [==============================] - 0s 106us/step\n",
      "571/571 [==============================] - 0s 105us/step\n",
      "571/571 [==============================] - 0s 104us/step\n",
      "571/571 [==============================] - 0s 107us/step\n",
      "571/571 [==============================] - 0s 116us/step\n",
      "571/571 [==============================] - 0s 120us/step\n",
      "571/571 [==============================] - 2s 3ms/step\n",
      "571/571 [==============================] - 2s 4ms/step\n",
      "571/571 [==============================] - 2s 3ms/step\n",
      "571/571 [==============================] - 2s 4ms/step\n",
      "571/571 [==============================] - 2s 4ms/step\n",
      "571/571 [==============================] - 2s 4ms/step\n",
      "571/571 [==============================] - 2s 4ms/step\n",
      "Completed running the 9 generation with mean accuracy of: 0.707531\n"
     ]
    }
   ],
   "source": [
    "generationCount = 10\n",
    "for i in range(generationCount):\n",
    "    print('Started running the %d generation' % (i))\n",
    "    pop = evolve(pop, x_train, y_train)\n",
    "    fitness_val = grade(pop, x_train, y_train)\n",
    "    print('Completed running the %d generation with mean accuracy of: %f' % (i, fitness_val))\n",
    "    average_fitness_history.append(fitness_val)"
   ]
  },
  {
   "cell_type": "code",
   "execution_count": 78,
   "metadata": {},
   "outputs": [
    {
     "data": {
      "image/png": "[encoded data removed]",
      "text/plain": [
       "<Figure size 432x288 with 1 Axes>"
      ]
     },
     "metadata": {
      "needs_background": "light"
     },
     "output_type": "display_data"
    }
   ],
   "source": [
    "plt.plot(average_fitness_history)\n",
    "plt.title('GA Average Accuracy Plot')\n",
    "plt.ylabel('Accuracy')\n",
    "plt.xlabel('Generation')\n",
    "plt.legend(['Train'], loc='upper left')\n",
    "plt.show()"
   ]
  },
  {
   "cell_type": "markdown",
   "metadata": {},
   "source": [
    "We see that the average accuracy increases with increase in the generation count"
   ]
  },
  {
   "cell_type": "code",
   "execution_count": 80,
   "metadata": {},
   "outputs": [
    {
     "name": "stdout",
     "output_type": "stream",
     "text": [
      "571/571 [==============================] - 0s 196us/step\n"
     ]
    },
    {
     "data": {
      "text/plain": [
       "[0.6451380888551421, 0.7075306471508982]"
      ]
     },
     "execution_count": 80,
     "metadata": {},
     "output_type": "execute_result"
    }
   ],
   "source": [
    "pop[0].evaluate(x_train, y_train)"
   ]
  },
  {
   "cell_type": "code",
   "execution_count": 81,
   "metadata": {},
   "outputs": [
    {
     "name": "stdout",
     "output_type": "stream",
     "text": [
      "571/571 [==============================] - 0s 224us/step\n",
      "The model has 70.753065 accuracy on the train data using genetic algorithm optimized neural network\n"
     ]
    }
   ],
   "source": [
    "print('The model has %f accuracy on the train data using genetic algorithm optimized neural network' % (pop[0].evaluate(x_train, y_train)[1] * 100))"
   ]
  },
  {
   "cell_type": "code",
   "execution_count": 74,
   "metadata": {},
   "outputs": [
    {
     "name": "stdout",
     "output_type": "stream",
     "text": [
      "143/143 [==============================] - 0s 186us/step\n"
     ]
    }
   ],
   "source": [
    "eval_val_ga = pop[0].evaluate(x_test, y_test)"
   ]
  },
  {
   "cell_type": "code",
   "execution_count": 75,
   "metadata": {},
   "outputs": [
    {
     "name": "stdout",
     "output_type": "stream",
     "text": [
      "The model has 62.237762 accuracy on the test data using genetic algorithm optimized neural network\n"
     ]
    }
   ],
   "source": [
    "print('The model has %f accuracy on the test data using genetic algorithm optimized neural network' % (eval_val_ga[1] * 100))"
   ]
  },
  {
   "cell_type": "markdown",
   "metadata": {},
   "source": [
    "#### Predict the classes for test data"
   ]
  },
  {
   "cell_type": "code",
   "execution_count": 76,
   "metadata": {},
   "outputs": [],
   "source": [
    "y_pred_ga = pop[0].predict_classes(x_test)"
   ]
  },
  {
   "cell_type": "code",
   "execution_count": 77,
   "metadata": {},
   "outputs": [
    {
     "data": {
      "image/png": "[encoded data removed]",
      "text/plain": [
       "<Figure size 432x288 with 2 Axes>"
      ]
     },
     "metadata": {
      "needs_background": "light"
     },
     "output_type": "display_data"
    }
   ],
   "source": [
    "confusion_matrix_val_ga = confusion_matrix(y_test, y_pred_ga)\n",
    "labels = ['Not Survived', 'Survived']\n",
    "\n",
    "# Create the plot figure \n",
    "fig = plt.figure()\n",
    "\n",
    "# Confusion Matrix subplot\n",
    "subplt = fig.add_subplot(111)\n",
    "csubplt = subplt.matshow(confusion_matrix_val_ga)\n",
    "\n",
    "plt.title('Confusion matrix of the neural network classifier with GA')\n",
    "fig.colorbar(csubplt)\n",
    "\n",
    "subplt.set_xticklabels([''] + labels)\n",
    "subplt.set_yticklabels([''] + labels)\n",
    "\n",
    "plt.xlabel('Predicted')\n",
    "plt.ylabel('Actual')\n",
    "plt.show()"
   ]
  },
  {
   "cell_type": "markdown",
   "metadata": {},
   "source": [
    "### Conclusion\n",
    "\n",
    "We see that the overall accuracy of the models generated using genetic algorithm increases with more generations. We also note that the training accuracy of 70% is reached for the genetic based neural network compared to 80% reached using backpropogation algorithm.\n",
    "\n",
    "*Note:* We were limited by the resources to run for more number of generations in genetic algorithm and limited it to 10 generations."
   ]
  }
 ],
 "metadata": {
  "kernelspec": {
   "display_name": "Python 3",
   "language": "python",
   "name": "python3"
  },
  "language_info": {
   "codemirror_mode": {
    "name": "ipython",
    "version": 3
   },
   "file_extension": ".py",
   "mimetype": "text/x-python",
   "name": "python",
   "nbconvert_exporter": "python",
   "pygments_lexer": "ipython3",
   "version": "3.6.7"
  }
 },
 "nbformat": 4,
 "nbformat_minor": 2
}
